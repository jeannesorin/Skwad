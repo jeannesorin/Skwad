{
 "cells": [
  {
   "cell_type": "code",
   "execution_count": 258,
   "metadata": {},
   "outputs": [],
   "source": [
    "import numpy as np\n",
    "import matplotlib.pyplot as plt\n",
    "import pandas as pd\n",
    "from scipy.stats import norm\n",
    "from scipy.stats import chisquare\n",
    "\n",
    "%matplotlib inline"
   ]
  },
  {
   "cell_type": "code",
   "execution_count": 259,
   "metadata": {},
   "outputs": [],
   "source": [
    "####Pull data####\n",
    "df_2 = pd.read_excel('PS2_Q1_Data.xlsx',sheet_name= 'K = 2')\n",
    "df_5 = pd.read_excel('PS2_Q1_Data.xlsx',sheet_name= 'K = 5')\n",
    "\n",
    "column_names_2 = ['obs','S1','S2']\n",
    "column_names_5 = ['obs','S1','S2','S3','S4','S5']\n",
    "\n",
    "df_2.columns = column_names_2\n",
    "df_5.columns = column_names_5\n"
   ]
  },
  {
   "cell_type": "markdown",
   "metadata": {},
   "source": [
    "### Part A\n",
    "The asymptotic distribution of the means is given by,\n",
    "$$\\sqrt{n}(\\bar X - \\mu) \\to N(0,1)$$\n",
    "Therefore, under $H_0: \\mu = 0$ the test statistic with a sample size of $N=100$ is $t=10 \\bar x$."
   ]
  },
  {
   "cell_type": "code",
   "execution_count": 260,
   "metadata": {},
   "outputs": [
    {
     "name": "stdout",
     "output_type": "stream",
     "text": [
      "p-value from the database with two samples\n",
      "p-value for K=1 is 0.246\n",
      "p-value for K=2 is 0.434\n",
      "-------\n",
      "p-value from the database with five samples\n",
      "p-value for K=1 is 0.403\n",
      "p-value for K=2 is 0.108\n",
      "p-value for K=3 is 0.204\n",
      "p-value for K=4 is 0.22\n",
      "p-value for K=5 is 0.199\n"
     ]
    }
   ],
   "source": [
    "#testing the first dataset with 2 samples\n",
    "t2_S1, t2_S2 = 10*df_2.mean()[1],10*df_2.mean()[2]\n",
    "\n",
    "#calculate p_values\n",
    "p2_t1 = 1-norm.cdf(abs(t2_S1))\n",
    "p2_t2 = 1-norm.cdf(abs(t2_S2))\n",
    "\n",
    "print('p-value from the database with two samples')\n",
    "print('p-value for K=1 is',str(round(p2_t1,3)))\n",
    "print('p-value for K=2 is',str(round(p2_t2,3)))\n",
    "\n",
    "\n",
    "#testing the first dataset with 2 samples\n",
    "t5_S1, t5_S2, t5_S3, t5_S4, t5_S5 = 10*df_5.mean()[1], 10*df_5.mean()[2], 10*df_5.mean()[3], 10*df_5.mean()[4], 10*df_5.mean()[5]\n",
    "\n",
    "#calculate p_values\n",
    "p5_t1 = 1-norm.cdf(abs(t5_S1))\n",
    "p5_t2 = 1-norm.cdf(abs(t5_S2))\n",
    "p5_t3 = 1-norm.cdf(abs(t5_S3))\n",
    "p5_t4 = 1-norm.cdf(abs(t5_S4))\n",
    "p5_t5 = 1-norm.cdf(abs(t5_S5))\n",
    "\n",
    "print('-------')\n",
    "print('p-value from the database with five samples')\n",
    "print('p-value for K=1 is',str(round(p5_t1,3)))\n",
    "print('p-value for K=2 is',str(round(p5_t2,3)))\n",
    "print('p-value for K=3 is',str(round(p5_t3,3)))\n",
    "print('p-value for K=4 is',str(round(p5_t4,3)))\n",
    "print('p-value for K=5 is',str(round(p5_t5,3)))"
   ]
  },
  {
   "cell_type": "markdown",
   "metadata": {},
   "source": [
    "### Part B\n",
    "\n",
    "#### Part a\n",
    "Let $\\bar X = [\\bar X_1, \\dots, \\bar X_S]'$ be a vector of the means of the different samples. Since $X_{i,s} \\sim iid$ for all $i$ and $s$, $Cov(X_{i,k},X_{i,j})=0<\\infty$ for $k\\neq j$ and $Var(X_{i,k})=1$ for all $i$ and $k$. Then by the multivariate central limit theorem,\n",
    "$$\\sqrt{N}(\\bar X - \\mu)\\to N(0,I_S) \\implies (\\bar X - \\mu)'N(\\bar X - \\mu) \\to \\chi^2_S$$\n",
    "Therefore, we can use the asymptotic result above to jointly test for the means being zero. More specifically, under the null,$H_0: \\mu_1 = \\dots = \\mu_S = 0$,\n",
    "$$T_n = 100\\sum_{k=1}^S \\bar X_k^2 \\to \\chi_S^2$$"
   ]
  },
  {
   "cell_type": "code",
   "execution_count": 261,
   "metadata": {},
   "outputs": [
    {
     "name": "stdout",
     "output_type": "stream",
     "text": [
      "p-value from the joint test for the two samples is 0.309\n",
      "p-value from the joint test for the five samples is 0.0002\n"
     ]
    }
   ],
   "source": [
    "#calculate the test statistic for the two samples\n",
    "c1 = 100*(df_2.mean()[1]**2 + df_2.mean()[2]**2)\n",
    "c2 = 100*(df_5.mean()[1]**2 + df_5.mean()[2]**2 + df_5.mean()[3]**2 + df_5.mean()[4]**2 + df_5.mean()[5]**2)\n",
    "\n",
    "#calculate p_values\n",
    "p2_c = 1-norm.cdf(c1)\n",
    "p5_c = 1-norm.cdf(c2)\n",
    "\n",
    "print('p-value from the joint test for the two samples is',str(round(p2_c,3)))\n",
    "print('p-value from the joint test for the five samples is',str(round(p5_c,4)))"
   ]
  },
  {
   "cell_type": "markdown",
   "metadata": {},
   "source": [
    "#### Part b\n",
    "Under the null $H_0: \\mu_1 = \\dots = \\mu_S = 0$ we have that the mean of the k-th samples is distributed $\\sqrt{n}\\bar X_k \\sim N(0,1)$. Let the cdf of this distrbution be given by $F(x)$. Then we have that the $\\max\\{\\bar X_k\\}_{k=1}^K$'s cdf is given by,\n",
    "$$F_{max}(x) = \\Phi(x)^{K}\\implies \\text{p-value} = 1-\\Phi(x)^{K}$$\n",
    "We can use the sample maxes to evalulate p-values, and hence test the null."
   ]
  },
  {
   "cell_type": "code",
   "execution_count": 262,
   "metadata": {},
   "outputs": [
    {
     "name": "stdout",
     "output_type": "stream",
     "text": [
      "p-value from the joint n-th order statistic test for the two samples is 0.757\n",
      "p-value from the joint n-th order statistic test for the five samples is 0.971\n"
     ]
    }
   ],
   "source": [
    "#order statistic test for data set with two samples\n",
    "p2_o = 1 - norm.cdf(max(df_2.mean()[1:3]))**2\n",
    "p5_o = 1 - norm.cdf(max(df_2.mean()[1:6]))**5\n",
    "\n",
    "print('p-value from the joint n-th order statistic test for the two samples is',str(round(p2_o,3)))\n",
    "print('p-value from the joint n-th order statistic test for the five samples is',str(round(p5_o,3)))"
   ]
  },
  {
   "cell_type": "code",
   "execution_count": 263,
   "metadata": {},
   "outputs": [
    {
     "data": {
      "image/png": "[encoded data removed]",
      "text/plain": [
       "<Figure size 432x288 with 1 Axes>"
      ]
     },
     "metadata": {
      "needs_background": "light"
     },
     "output_type": "display_data"
    },
    {
     "data": {
      "image/png": "[encoded data removed]",
      "text/plain": [
       "<Figure size 432x288 with 1 Axes>"
      ]
     },
     "metadata": {
      "needs_background": "light"
     },
     "output_type": "display_data"
    }
   ],
   "source": [
    "###Monte Carlo Simulation generating the cdf of the test statistic\n",
    "draws = 1000\n",
    "values_2 = np.empty(draws)\n",
    "values_5 = np.empty(draws)\n",
    "\n",
    "#generate draws\n",
    "for d in range(draws):\n",
    "    values_2[d] = max(np.random.standard_normal(2))\n",
    "    values_5[d] = max(np.random.standard_normal(5))\n",
    "\n",
    "#prepare data to plot empirical cdf\n",
    "values_2.sort()\n",
    "values_5.sort()\n",
    "ecdf = np.linspace(0, 1,draws)\n",
    "\n",
    "#prepare anlaytical cdf values for comparision\n",
    "x2_values = np.linspace(values_2[0]*0.9,values_2[draws-1]*1.1,1000)\n",
    "x5_values = np.linspace(values_5[0]*0.9,values_5[draws-1]*1.1,1000)\n",
    "y2_values = [norm.cdf(x)**2 for x in x2_values]\n",
    "y5_values = [norm.cdf(x)**5 for x in x5_values]\n",
    "\n",
    "#plot for K=2 sample\n",
    "fig, ax = plt.subplots()\n",
    "ax.plot(values_2, ecdf, linewidth=2,alpha=1,label = 'Monte Carlo',color='blue')\n",
    "ax.plot(x2_values, y2_values, linewidth=4,alpha=1,label = 'Analytical',color='red',linestyle=':')\n",
    "ax.set_title('For K=2, Monte Carlo ECDF vs Analytical CDF (n=1000)')\n",
    "ax.legend(loc=\"best\")\n",
    "plt.show()\n",
    "\n",
    "#plot for K=5 sample\n",
    "fig, ax = plt.subplots()\n",
    "ax.plot(values_5, ecdf, linewidth=2,alpha=1,label = 'Monte Carlo',color='blue')\n",
    "ax.plot(x5_values, y5_values, linewidth=4,alpha=1,label = 'Analytical',color='red',linestyle=':')\n",
    "ax.set_title('For K=5, Monte Carlo ECDF vs Analytical CDF (n=1000)')\n",
    "ax.legend(loc=\"best\")\n",
    "plt.show()"
   ]
  },
  {
   "cell_type": "markdown",
   "metadata": {},
   "source": [
    "#### Part c\n",
    "\n",
    "Holm (1979) provides a step-down testing method. The procedure works as follows,\n",
    "1. Rank the individual p-values from smallest to largest $p_{n,(1)}\\leq \\dots \\leq p_{n,(S)}$ with corresponding nulls $H_{0,(1)},\\dots,H_{0,(n)}$.\n",
    "1. Then, $H_{0,(s)}$ is rejected $\\iff$ $p_{n,(j)}\\leq \\alpha/(S-j+1)$ for $j=1,\\dots,s$.\n",
    "\n",
    "The method starts with testing the most significant hypothesis by comparing its p-value to $\\alpha/S$. If the hypothesis is rejected, the method moves on to the second most significant hypothesis by comparing its p-value to $\\alpha/(S-1)$, and so on, until the procedure comes to a stop."
   ]
  },
  {
   "cell_type": "code",
   "execution_count": 264,
   "metadata": {},
   "outputs": [
    {
     "name": "stdout",
     "output_type": "stream",
     "text": [
      "-----Step-down testing for sample with two means at the 5.0 % significance level-----\n",
      "Cannot reject null of t test K=1\n",
      "Cannot reject null of F-test\n",
      "Cannot reject null of t test K=2\n",
      "Cannot reject null of Order Statistic test\n",
      "\n",
      "-----Step-down testing for sample with five means at the 5.0 % significance level-----\n",
      "Reject null of F-test\n",
      "Cannot reject null of t test K=2\n",
      "Cannot reject null of t test K=5\n",
      "Cannot reject null of t test K=3\n",
      "Cannot reject null of t test K=4\n",
      "Cannot reject null of t test K=1\n",
      "Cannot reject null of Order Statistic test\n"
     ]
    }
   ],
   "source": [
    "#Choose significance level\n",
    "α = 0.05\n",
    "\n",
    "#####implements for sample with two means\n",
    "#put all the p_values into panda df tracking test,p-value, rejected or accepted column to be filled later\n",
    "d = {'test': ['t test K=1','t test K=2','F-test','Order Statistic test'], 'p-values': [p2_t1, p2_t2, p2_c, p2_o]}\n",
    "df2_pvalues = pd.DataFrame(data=d)\n",
    "\n",
    "#sort p-values in asscending order\n",
    "df2_pvalues = df2_pvalues.sort_values(by='p-values').reset_index(drop=True)\n",
    "S = df2_pvalues.shape[0]\n",
    "pvalues2 = df2_pvalues['p-values']\n",
    "test2 = df2_pvalues['test']\n",
    "\n",
    "r = 0\n",
    "print('-----Step-down testing for sample with two means at the',str(α*100),'% significance level-----')\n",
    "for s in range(S):\n",
    "    if pvalues2[s]<= α/(S-s) and r==0:\n",
    "        print('Reject null of',test2[s])\n",
    "    else:\n",
    "        r=1\n",
    "        print('Cannot reject null of',test2[s])\n",
    "\n",
    "#####implements for sample with five means\n",
    "#put all the p_values into panda df tracking test,p-value, rejected or accepted column to be filled later\n",
    "d = {'test': ['t test K=1','t test K=2','t test K=3','t test K=4','t test K=5','F-test','Order Statistic test'], 'p-values': [p5_t1, p5_t2, p5_t3, p5_t4, p5_t5, p5_c, p5_o]}\n",
    "df5_pvalues = pd.DataFrame(data=d)\n",
    "\n",
    "#sort p-values in asscending order\n",
    "df5_pvalues = df5_pvalues.sort_values(by='p-values').reset_index(drop=True)\n",
    "S = df5_pvalues.shape[0]\n",
    "pvalues5 = df5_pvalues['p-values']\n",
    "test5 = df5_pvalues['test']\n",
    "\n",
    "r = 0\n",
    "print('')\n",
    "print('-----Step-down testing for sample with five means at the',str(α*100),'% significance level-----')\n",
    "for s in range(S):\n",
    "    if pvalues5[s]<= α/(S-s) and r==0:\n",
    "        print('Reject null of',test5[s])\n",
    "    else:\n",
    "        r=1\n",
    "        print('Cannot reject null of',test5[s])"
   ]
  },
  {
   "cell_type": "markdown",
   "metadata": {},
   "source": [
    "### Part E\n",
    "For the meta-analysis, I conduct two analysis. The first assumes we have access to all the underlying data, whereas the second assumes we just have access to the means.\n",
    "\n",
    "#### Meta-analysis if observations are available\n",
    "In this case it makes sense to just pool all the observations and then do a z-test on the null $\\mu =0$. From part a we know that under the null,\n",
    "$$Z = \\sqrt{n}\\bar X \\to N(0,1)$$"
   ]
  },
  {
   "cell_type": "code",
   "execution_count": 265,
   "metadata": {},
   "outputs": [
    {
     "name": "stdout",
     "output_type": "stream",
     "text": [
      "p-value for meta-anlaysis when all observation are availble\n",
      "p-value for database with two samples 0.273\n",
      "p-value for database with five samples 0.397\n"
     ]
    }
   ],
   "source": [
    "#testing the first dataset with 2 samples\n",
    "z2 = (200**0.5)*(0.5*df_2.mean()[1] + 0.5*df_2.mean()[2])\n",
    "z5 = (500**0.5)*(0.2*df_5.mean()[1] + 0.2*df_5.mean()[2] + 0.2*df_5.mean()[3] + 0.2*df_5.mean()[4] + 0.2*df_5.mean()[5])\n",
    "\n",
    "#calculate p_values\n",
    "print('p-value for meta-anlaysis when all observation are availble')\n",
    "print('p-value for database with two samples',str(round(1-norm.cdf(abs(z2)),3)))\n",
    "print('p-value for database with five samples',str(round(1-norm.cdf(abs(z5)),3)))"
   ]
  },
  {
   "cell_type": "markdown",
   "metadata": {},
   "source": [
    "#### Meta-analysis if just means are available\n",
    "Under the null each mean is distributed $\\sqrt{100}\\bar X \\sim N(0,1)$. Therefore the sum of $S$ means are distrbuted $\\sqrt{100}\\sum_{i=1}^S \\bar X_i \\sim N(0,S)$. We can use this to construct the following z-test,\n",
    "$$Z = \\sqrt{\\frac{100}{S}}\\sum_{i=1}^S \\bar X_i \\sim N(0,1)$$"
   ]
  },
  {
   "cell_type": "code",
   "execution_count": 266,
   "metadata": {},
   "outputs": [
    {
     "name": "stdout",
     "output_type": "stream",
     "text": [
      "p-value for meta-anlaysis when only means are availble\n",
      "p-value for database with two samples 0.273\n",
      "p-value for database with five samples 0.397\n"
     ]
    }
   ],
   "source": [
    "z2 = (50**0.5)*(df_2.mean()[1] + df_2.mean()[2])\n",
    "z5 = (20**0.5)*(df_5.mean()[1] + df_5.mean()[2] + df_5.mean()[3] + df_5.mean()[4] + df_5.mean()[5])\n",
    "\n",
    "#calculate p_values\n",
    "print('p-value for meta-anlaysis when only means are availble')\n",
    "print('p-value for database with two samples',str(round(1-norm.cdf(abs(z2)),3)))\n",
    "print('p-value for database with five samples',str(round(1-norm.cdf(abs(z5)),3)))"
   ]
  }
 ],
 "metadata": {
  "kernelspec": {
   "display_name": "Python 3",
   "language": "python",
   "name": "python3"
  },
  "language_info": {
   "codemirror_mode": {
    "name": "ipython",
    "version": 3
   },
   "file_extension": ".py",
   "mimetype": "text/x-python",
   "name": "python",
   "nbconvert_exporter": "python",
   "pygments_lexer": "ipython3",
   "version": "3.7.3"
  }
 },
 "nbformat": 4,
 "nbformat_minor": 2
}
