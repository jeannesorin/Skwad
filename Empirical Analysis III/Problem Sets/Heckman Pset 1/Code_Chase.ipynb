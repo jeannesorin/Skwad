{
 "cells": [
  {
   "cell_type": "code",
   "execution_count": 31,
   "metadata": {},
   "outputs": [
    {
     "name": "stdout",
     "output_type": "stream",
     "text": [
      "fib( 100 ): 354224848179261915075\n"
     ]
    }
   ],
   "source": [
    "# dp practice (haven't used Python for a while since working on Julia)\n",
    "cache = {1:1, 2:1}\n",
    "def fib(n):\n",
    "    if n in cache:\n",
    "        return cache[n]\n",
    "    current = fib(n-1) + fib(n-2)\n",
    "    cache[n] = current\n",
    "    return current\n",
    "\n",
    "num = 100\n",
    "print(\"fib(\",num,\"):\",fib(num))\n",
    "# print(cache)\n",
    "\n",
    "# Ahh, it's as great as I remember.\n",
    "    "
   ]
  },
  {
   "cell_type": "code",
   "execution_count": 32,
   "metadata": {},
   "outputs": [],
   "source": [
    "# Get pandas for dealing with xlsx\n",
    "import pandas as pd"
   ]
  },
  {
   "cell_type": "code",
   "execution_count": 193,
   "metadata": {},
   "outputs": [],
   "source": [
    "# Old numpy\n",
    "import numpy as np\n",
    "# Stats\n",
    "import statistics as st\n",
    "# Plotting\n",
    "import matplotlib.pyplot as plt\n",
    "import math"
   ]
  },
  {
   "cell_type": "code",
   "execution_count": 46,
   "metadata": {},
   "outputs": [],
   "source": [
    "# set path\n",
    "path = \"/Users/chaseabram/UChiGit/Skwad/Empirical Analysis III/Problem Sets/Heckman Pset 1/PS1_Q5_Data.xlsx\"\n",
    "# read file\n",
    "xls = pd.ExcelFile(path)"
   ]
  },
  {
   "cell_type": "code",
   "execution_count": 205,
   "metadata": {},
   "outputs": [
    {
     "name": "stdout",
     "output_type": "stream",
     "text": [
      "9.223554200437155\n",
      "8.740499021666624\n",
      "16.532593708406576\n",
      "9.862711657159947\n",
      "9.059049974744092\n",
      "8.14788683516036\n",
      "12.563428175469127\n",
      "12.620295358685592\n",
      "6.9557763286225365\n",
      "1.3774628020042539\n",
      "9.798707487377241\n",
      "11.803213928070724\n",
      "9.575000607827228\n",
      "21.89490156844744\n",
      "53.08192381219956\n",
      "2.118669328533758\n",
      "11.462028126174324\n",
      "4.4732790778425295\n",
      "-41896073.371400945\n",
      "-162695.7363343059\n",
      "156200016.79048243\n",
      "196580.99290631193\n",
      "22100283.379923984\n",
      "458835.97134344885\n",
      "-36501657.21016834\n",
      "2926866.673940093\n",
      "-205692320.34397775\n",
      "-41643.54437950463\n",
      "-14104154.724990858\n",
      "4922017.996907102\n",
      "-422648581.9159778\n",
      "9603837.368646877\n",
      "17836332426.98756\n",
      "-591720.0231757595\n",
      "23172815.252343174\n",
      "-3452023.9766265303\n",
      "9.53447901230303\n",
      "10.47804137101567\n",
      "4.69788686862459\n",
      "8.926125816918201\n",
      "10.589583370156936\n",
      "11.445277399457037\n",
      "13.24587327489305\n",
      "15.678564820514664\n",
      "14.155392807885768\n",
      "2.037555341969885\n",
      "10.735805966647035\n",
      "9.166936240606914\n",
      "1.3665147865004568\n",
      "-3.543909121383677\n",
      "17.94241940428394\n",
      "48.02890201328631\n",
      "9.311160104145861\n",
      "12.054131932064301\n",
      "12.737510357325455\n",
      "12.33143111323596\n",
      "15.131505759260984\n",
      "15.93014625251552\n",
      "9.138936223307667\n",
      "10.697499320568726\n",
      "2.4414734129197626\n",
      "8.328377498097757\n",
      "32.96640505250706\n",
      "17.28010906158231\n",
      "9.43570130031906\n",
      "10.21456071212024\n",
      "11.18192063655915\n",
      "-2.5790533237202835\n",
      "-16.23505736509526\n",
      "51.47594394681399\n",
      "12.957539661536337\n",
      "10.353115021497661\n"
     ]
    }
   ],
   "source": [
    "# Get number of sheets (72)\n",
    "numSheets = len(xls.sheet_names)\n",
    "# initialize\n",
    "dfs = [0]*numSheets\n",
    "betas = np.zeros((numSheets,3))\n",
    "# read each sheet into data frame such that dfs[sheet][variable][observation]\n",
    "for i in range(0,numSheets):\n",
    "    # Add to data frame\n",
    "    sheetNum = str(i)\n",
    "    sheetName = 'DataSet' + sheetNum\n",
    "    dfs[i] = pd.read_excel(xls, sheetName)\n",
    "    # read in data\n",
    "    X = np.zeros((3, len(dfs[i])))\n",
    "    X[0] = [1]*len(dfs[i])\n",
    "    X[1] = dfs[i]['X1']\n",
    "    X[2] = dfs[i]['X2']\n",
    "    Y = dfs[i]['Y']\n",
    "    # run ols with beta1 and beta 1\n",
    "    betas[i] = np.dot(np.linalg.inv(np.dot(X,np.transpose(X))),np.dot(X,Y))\n",
    "    \n",
    "    # estimate standard deviation (NEED TO FIX FOR BETA2)\n",
    "#     print(\"mean\",np.mean(X[2]))\n",
    "    sigma = math.sqrt(np.var(X[2]))\n",
    "#     print(\"var:\",np.var(X[2]))\n",
    "#     print(\"sd:\",sigma)\n",
    "    tstat = math.sqrt(len(dfs[i]))*betas[i][1]/sigma\n",
    "    print(tstat)\n",
    "    \n",
    "    # find relevant t-statistic\n",
    "#     tstat = betas[i][1]/\n",
    "    \n",
    "    \n",
    "    \n",
    "# np.dot(X,np.transpose(X))\n",
    "# dataHist = np.histogram(betas[:,1])\n",
    "# betas\n",
    "# plt.hist(dataHist)\n",
    "\n",
    "# dfs[0][\"X1\"][0]"
   ]
  },
  {
   "cell_type": "code",
   "execution_count": null,
   "metadata": {},
   "outputs": [],
   "source": []
  }
 ],
 "metadata": {
  "kernelspec": {
   "display_name": "Python 3",
   "language": "python",
   "name": "python3"
  },
  "language_info": {
   "codemirror_mode": {
    "name": "ipython",
    "version": 3
   },
   "file_extension": ".py",
   "mimetype": "text/x-python",
   "name": "python",
   "nbconvert_exporter": "python",
   "pygments_lexer": "ipython3",
   "version": "3.7.4"
  }
 },
 "nbformat": 4,
 "nbformat_minor": 2
}
