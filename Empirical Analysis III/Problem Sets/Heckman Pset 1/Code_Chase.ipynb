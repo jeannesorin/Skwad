{
 "cells": [
  {
   "cell_type": "code",
   "execution_count": 31,
   "metadata": {},
   "outputs": [
    {
     "name": "stdout",
     "output_type": "stream",
     "text": [
      "fib( 100 ): 354224848179261915075\n"
     ]
    }
   ],
   "source": [
    "# dp practice (haven't used Python for a while since working on Julia)\n",
    "cache = {1:1, 2:1}\n",
    "def fib(n):\n",
    "    if n in cache:\n",
    "        return cache[n]\n",
    "    current = fib(n-1) + fib(n-2)\n",
    "    cache[n] = current\n",
    "    return current\n",
    "\n",
    "num = 100\n",
    "print(\"fib(\",num,\"):\",fib(num))\n",
    "# print(cache)\n",
    "\n",
    "# Ahh, it's as great as I remember.\n",
    "    "
   ]
  },
  {
   "cell_type": "code",
   "execution_count": null,
   "metadata": {},
   "outputs": [],
   "source": []
  }
 ],
 "metadata": {
  "kernelspec": {
   "display_name": "Python 3",
   "language": "python",
   "name": "python3"
  },
  "language_info": {
   "codemirror_mode": {
    "name": "ipython",
    "version": 3
   },
   "file_extension": ".py",
   "mimetype": "text/x-python",
   "name": "python",
   "nbconvert_exporter": "python",
   "pygments_lexer": "ipython3",
   "version": "3.7.4"
  }
 },
 "nbformat": 4,
 "nbformat_minor": 2
}
