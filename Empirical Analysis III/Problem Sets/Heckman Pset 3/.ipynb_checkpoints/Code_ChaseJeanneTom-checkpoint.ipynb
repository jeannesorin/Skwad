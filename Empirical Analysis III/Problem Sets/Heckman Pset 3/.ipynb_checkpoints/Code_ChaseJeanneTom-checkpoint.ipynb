{
 "cells": [
  {
   "cell_type": "markdown",
   "metadata": {},
   "source": [
    "# ECON 31200 Part B Problem Set 3\n",
    "#### Chase Abram, Tom Hierons, Jeanne Sorin\n"
   ]
  },
  {
   "cell_type": "markdown",
   "metadata": {},
   "source": [
    "## Preliminary"
   ]
  },
  {
   "cell_type": "code",
   "execution_count": 13,
   "metadata": {},
   "outputs": [],
   "source": [
    "### IMPORT PACKAGES\n",
    "import numpy as np\n",
    "\n",
    "import scipy.stats as st\n",
    "from scipy.stats import multivariate_normal\n",
    "from scipy.stats import norm\n",
    "from scipy.stats import binom\n",
    "\n",
    "import matplotlib.pyplot as plt\n",
    "\n",
    "from scipy.integrate import quad\n",
    "from scipy.integrate import simps"
   ]
  },
  {
   "cell_type": "markdown",
   "metadata": {},
   "source": [
    "## Defining Functions\n",
    "\n",
    "### The DGP"
   ]
  },
  {
   "cell_type": "code",
   "execution_count": 14,
   "metadata": {},
   "outputs": [],
   "source": [
    "### FUNCTIONS FOR THE DGP\n",
    "\n",
    "def cov_f(conf=[1, 1, 1, 0, 0,0]):\n",
    "    '''\n",
    "    Function creating the covariance matrix for the different configurations\n",
    "    Takes as default the identity matrix\n",
    "    '''\n",
    "    cov = [[conf[1], conf[3], conf[4]],\n",
    "          [conf[3], conf[0], conf[5]],\n",
    "          [conf[4], conf[5], conf[2]]]\n",
    "    return(cov)\n",
    "\n",
    "def errors_f(mean, cov, N):\n",
    "    ''' This function generates multivariate join normal errors U1, U0, UC '''\n",
    "    U1, U0, UC = np.random.multivariate_normal(mean, cov, N).T\n",
    "    return(U1, U0, UC)\n",
    "\n",
    "def Z_f(min, max, N):\n",
    "    ''' This function generates Z ~ Unif[min, max] '''\n",
    "    return(np.random.uniform(min, max, N))\n",
    "\n",
    "def Y1_f(α, β, U1):\n",
    "    ''' This function computes Y1 for a given vector U1 '''\n",
    "    return(α + β + U1)\n",
    "\n",
    "def Y0_f(α, U0):\n",
    "    ''' This function computes Y0 for a given vector U0 '''\n",
    "    return(α + U0)\n",
    "\n",
    "def C_f(Z, UC):\n",
    "    ''' This function computes C for given vectors Z and UC (independent)'''\n",
    "    return(Z + UC)\n",
    "\n",
    "def D_f(Y1, Y0, C):\n",
    "    ''' This function computes the choice function D, given vectors Y1, Y0 and C '''\n",
    "    D = np.zeros(len(Y0))\n",
    "    for i in range(len(Y0)):\n",
    "        if Y1[i] - Y0[i] - C[i] >= 0: \n",
    "            D[i] = 1\n",
    "    return(D)\n",
    "\n",
    "def muD_f(β, Z):\n",
    "    ''' This function computes μD(Z) '''\n",
    "    return(β + Z)\n",
    "    \n"
   ]
  },
  {
   "cell_type": "markdown",
   "metadata": {},
   "source": [
    "### A function to generate data in one clic"
   ]
  },
  {
   "cell_type": "code",
   "execution_count": 15,
   "metadata": {},
   "outputs": [],
   "source": [
    "def DGP_f(N, α, β, min, max, mean, conf, minmax2=False, min2 = 0, max2 = 0):\n",
    "    ''' This function generates the data \"in one clic\" '''\n",
    "    \n",
    "    cov = cov_f(conf)\n",
    "    U1, U0, UC = errors_f(mean, cov, N)\n",
    "    Y1 = Y1_f(α, β, U1)\n",
    "    Y0 = Y0_f(α, U0)\n",
    "    \n",
    "    if minmax2 == False:\n",
    "        Z = Z_f(min, max, N)\n",
    "    if minmax2 == True:\n",
    "        '''\n",
    "        Relevant for 3.C. \n",
    "        Bonus: allow interval to have different lenght because why not'''\n",
    "        Z1 = Z_f(min, max, N)\n",
    "        Z2 = Z_f(min2, max2, N)\n",
    "        p = (max - min)/(max - min + max2 - min2)\n",
    "        pick = binom.rvs(1, 0.5, size=N)\n",
    "        Z = Z1*pick + Z2*(1-pick)\n",
    " \n",
    "    C = C_f(Z, UC)\n",
    "    D = D_f(Y1, Y0, C)\n",
    "    μD = muD_f(β, Z)\n",
    "    return(Y1, Y0, Z, C, D, cov, μD, U1, U0, UC)"
   ]
  },
  {
   "cell_type": "markdown",
   "metadata": {},
   "source": [
    "### The Econometrics : $U_D$, the $MTE$, the $LIV$"
   ]
  },
  {
   "cell_type": "markdown",
   "metadata": {},
   "source": [
    "#### $U_D$\n",
    "All treatment effects are both estimated for a given $U_D = \\Phi(\\frac{V}{\\sigma_V})$, where $V = U_0 + U_C - U_1$.\n",
    "\n",
    "We need to compute $\\sigma_V$\n",
    "\n",
    "\\begin{align*}\n",
    "\\sigma_V^2 &= Var(U_0 + U_C - U_1) \\\\\n",
    "&= Var(U_0) + Var(U_1) + Var(U_C) +  2 Cov(U_0, U_C) - 2 Cov(U_0, U_1) - 2 Cov(U_C, U_1) \\\\\n",
    "&= \\sigma_0^2 + \\sigma_1^2 + \\sigma_c^2 + 2 \\sigma_{0C} - 2 \\sigma_{01} - 2 \\sigma_{1C} \\\\\n",
    "\\sigma_V &= \\sqrt{\\sigma_0^2 + \\sigma_1^2 + \\sigma_c^2 + 2 \\sigma_{0C} - 2 \\sigma_{01} - 2 \\sigma_{1C}}\n",
    "\\end{align*}"
   ]
  },
  {
   "cell_type": "code",
   "execution_count": 16,
   "metadata": {},
   "outputs": [],
   "source": [
    "# Compute Ud\n",
    "def Ud_f(U1, U0, UC, cov):\n",
    "    ''' This function computes U_D for a given vector of errors, and covariance structure '''\n",
    "    σ0_2 = cov[0][0]\n",
    "    σ1_2 = cov[1][1]\n",
    "    σc_2 = cov[2][2]\n",
    "    σ01 = cov[0][1]\n",
    "    σ0c = cov[0][2]\n",
    "    σ1c = cov[1][2]\n",
    "    # σv\n",
    "    σv = np.sqrt(σ0_2 + σ1_2 + σc_2 + 2*σ0c - 2*σ1c - 2*σ01)\n",
    "    # V\n",
    "    V = U0 + UC - U1\n",
    "    # Ud = Φ(V/σv)\n",
    "    Ud = norm.cdf(V/σv)\n",
    "    return(Ud)"
   ]
  },
  {
   "cell_type": "markdown",
   "metadata": {},
   "source": [
    "#### The MTE\n",
    "\n",
    "The MTE for the generalized Roy model is defined the following way:\n",
    "\\begin{align*}\n",
    "    MTE(u_d) = E(Y_1 - Y_0 | U_d = u_d) &= E(\\alpha + \\beta + U_1 - (\\alpha + U_0) | V = v, Z=z) \\\\\n",
    "    &= \\beta + E(U_1 - U_0 | U_d = u_d) \\\\\n",
    "    &= \\beta + E(U_1 - U_0 | \\Phi(\\frac{U_0 + U_C - U_1}{\\sigma_v}) = u_d) \\\\\n",
    "    &= \\beta + E(U_1 - U_0 | \\Phi(\\frac{V}{\\sigma_v}) = u_d) \\\\\n",
    "    &= \\beta + E(U_1 - U_0 | \\frac{V}{\\sigma_v} = \\Phi^{-1}(u_d)) \\\\\n",
    "    &= \\beta + Cov(U_1 - U_0, \\frac{V}{\\sigma_v}) \\Phi^{-1}(u_d)\n",
    "\\end{align*}\n",
    "Where the last line follows from the conditional expectation formula with normally distributed RV in the conditioning.\n",
    "\n",
    "At that point we need to compute\n",
    "\\begin{align*}\n",
    "Cov(U_1 - U_0, \\frac{V}{\\sigma_v}) &= Cov(U_1 - U_0, \\frac{U_0 + U_C - U_1}{\\sigma_v}) \\\\\n",
    "&= Cov(U_1 - U_0, \\frac{U_1 - U_0}{- \\sigma_V}) + Cov(U_1 - U_0, \\frac{U_C}{\\sigma_V}) \\\\\n",
    "&= - \\frac{1}{\\sigma_V}V(U_1 - U_0) + \\frac{1}{\\sigma_V} Cov(U_1 - U_0, U_C) \\\\\n",
    "&= \\frac{-\\sigma_0^2 - \\sigma_1^2 + 2\\sigma_{01} + \\sigma_{1C} - \\sigma_{0C}}{\\sqrt{\\sigma_0^2 + \\sigma_C^2 + \\sigma_1^2 + 2 \\sigma_{0,C} - 2 \\sigma_{0,1} - 2 \\sigma_{1,C}}}\n",
    "\\end{align*}\n",
    "\n",
    "\n",
    "Therefore we have\n",
    "\\begin{align*}\n",
    "    MTE(u_d) = E(Y_1 - Y_0 | U_d = u_d) &= E(\\alpha + \\beta + U_1 - (\\alpha + U_0) | V = v, Z=z) \\\\\n",
    "    &= \\beta + \\frac{-\\sigma_0^2 - \\sigma_1^2 + 2\\sigma_{01} + \\sigma_{1C} - \\sigma_{0C}}{\\sqrt{\\sigma_0^2 + \\sigma_C^2 + \\sigma_1^2 + 2 \\sigma_{0,C} - 2 \\sigma_{0,1} - 2 \\sigma_{1,C}}} \\Phi^{-1}(u_d)\n",
    "\\end{align*}"
   ]
  },
  {
   "cell_type": "code",
   "execution_count": 85,
   "metadata": {},
   "outputs": [],
   "source": [
    "# Compute the MTE for a given Ud & Graph it\n",
    "def MTE_f(β, cov, plot=True):\n",
    "    '''\n",
    "    This function computes the MTE for a given Ud (or vector)\n",
    "    MTE = β + Cov(U_1 - U_0, \\frac{V}{\\sigma_V})Φ^{-1}(Ud)\n",
    "    '''\n",
    "    # Extract covariances to make it easier to read\n",
    "    σ0_2, σ1_2, σc_2, σ01, σ0c, σ1c = cov[0][0], cov[1][1], cov[2][2], cov[0][1], cov[0][2], cov[1][2]\n",
    "    \n",
    "    # σv\n",
    "    σv = np.sqrt(σ0_2 + σ1_2 + σc_2 + 2*σ0c - 2*σ1c - 2*σ01)\n",
    "    \n",
    "    # Cov(U_1 - U_0, V/σv)\n",
    "    Cov_int = 1/σv *(- σ1_2 - σ0_2 + 2*σ01 + σ1c - σ0c)\n",
    "    \n",
    "    # Ud is a theory object here!\n",
    "    Ud = np.linspace(0, 1, N)\n",
    "    \n",
    "    # \\Phi^{-1}(Ud)\n",
    "    v = norm.ppf(Ud)\n",
    "    \n",
    "    MTE = β + Cov_int*v\n",
    "    \n",
    "    if plot==True:\n",
    "        plt.plot(Ud, MTE, linewidth=2, alpha=0.6, label='MTE')\n",
    "        plt.show()\n",
    "        \n",
    "    return(MTE)"
   ]
  },
  {
   "cell_type": "markdown",
   "metadata": {},
   "source": [
    "### The LIV"
   ]
  },
  {
   "cell_type": "markdown",
   "metadata": {},
   "source": [
    "### WORK IN PROGRESS\n",
    "\n",
    "We begin by finding an expression of the expression $\\mathbb{E}[Y|P(Z)=p]$ \n",
    "\n",
    "\\begin{align} \n",
    "\\mathbb{E}[Y|P(z) = p] =& \\mathbb{E}[Y_0 + D(Y_1 - Y_0) | P(Z) = p]\\ =& \\mathbb{E}[Y_1|D=1, P(Z) = p]P(D=1|Z=z) + \\mathbb{E}Y_0|D=0, P(Z) = p)\\\\ \n",
    "=& \\mathbb{E}[Y_1|P(Z)>U_D, P(Z) = p]p + \\mathbb{E}Y_0|P(Z)<U_D, P(Z) = p\\ =& \\alpha + \\bar \\beta p + \\mathbb{E}[U_1|p>U_D]p + \\mathbb{E}U_0|p<U_D\\ =& (\\alpha + \\bar \\beta)p+ \\mathbb{E}\\left[U_1\\Big|\\frac{U_0 + V - U0}{\\sigma{U_0 + V - U_0}}<\\Phi^{-1}(p) \\right]p\\ =& \\alpha + \\bar \\beta p + \\frac{\\zeta1}{\\sigma{U_0 + V - U_1}} \\mathbb{E}\\left[\\frac{U_0 + V - U0}{\\sigma{U_0 + V - U_0}}\\Big|\\frac{U_0 + V - U0}{\\sigma{U_0 + V - U_0}}<\\Phi^{-1}(p) \\right]p\\ +& \\frac{\\zeta0}{\\sigma{U_0 + V - U_1}} \\mathbb{E}\\left\\frac{U_0 + V - U0}{\\sigma{U_0 + V - U_0}}\\Big|\\frac{U_0 + V - U0}{\\sigma{U_0 + V - U_0}}>\\Phi^{-1}(p) \\right\\ =& \\alpha + \\bar \\beta p + \\frac{\\zeta1}{\\sigma{U_0 + V - U_1}} \\frac{\\mathbb{E}\\left[\\frac{U_0 + V - U0}{\\sigma{U_0 + V - U_0}}\\mathbf{1}\\left{\\frac{U_0 + V - U0}{\\sigma{U_0 + V - U_0}}<\\Phi^{-1}(p)\\right} \\right]}{P\\left(\\frac{U_0 + V - U0}{\\sigma{U_0 + V - U_0}}<\\Phi^{-1}(p)\\right)}p\\ +& \\frac{\\zeta0}{\\sigma{U_0 + V - U_1}} \\frac{\\mathbb{E}\\left[\\frac{U_0 + V - U0}{\\sigma{U_0 + V - U_0}}\\mathbf{1}\\left{\\frac{U_0 + V - U0}{\\sigma{U_0 + V - U_0}}>\\Phi^{-1}(p)\\right} \\right]}{P\\left(\\frac{U_0 + V - U0}{\\sigma{U_0 + V - U_0}}>\\Phi^{-1}(p)\\right)}(1-p)\\ =& \\alpha + \\bar \\beta p + \\frac{\\zeta1}{\\sigma{U_0 + V - U0}} \\frac{\\int{\\Phi^{-1}(p)}^{\\infty}t\\phi(t)dt}{\\int_{\\Phi^{-1}(p)}^{\\infty}\\phi(t)dt}p + \\bar \\beta)p + \\frac{\\zeta0}{\\sigma{U_0 + V - U0}} \\frac{\\int{-\\infty}^{\\Phi^{-1}(p)}t\\phi(t)dt}{\\int_{-\\infty}^{\\Phi^{-1}(p)}\\phi(t)dt}(1-p)\\ =& \\alpha + \\bar \\beta - \\frac{\\zeta1}{\\sigma{U_0 + V - U0}}\\frac{\\int{-\\infty}^{\\Phi^{-1}(p)}\\phi'(t)dt}{\\int_{-\\infty}^{\\Phi^{-1}(p)}\\phi(t)dt}p - \\frac{\\zeta0}{\\sigma{U_0 + V - U0}}\\frac{\\int{\\Phi^{-1}(p)}^{\\infty}\\phi'(t)dt}{\\int_{\\Phi^{-1}(p)}^{\\infty}\\phi(t)dt}(1-p) \\tag{$\\phi'(t) = -t\\phi(t)$}\\ =& \\alpha + \\bar \\beta p - \\frac{\\zeta_1 - \\zeta0}{\\sigma{U_0 + V - U_0}} \\phi(\\Phi^{-1}(p)) \\end{align} where $\\zeta_1 = \\sigma_{01} + \\sigma_{1V} - \\sigma^2_1$ and $\\zeta_0 = \\sigma^2_{0} + \\sigma_{0V} - \\sigma_{01}$. Taking derivative of the expression above with respect to $p$ we get, \\begin{align} \\frac{\\partial \\mathbb{E}[Y|P(Z)=p]}{\\partial p} =& \\bar \\beta -\\frac{\\zeta_1 - \\zeta0}{\\sigma{U_1 - U_0 - V}} \\phi'(\\Phi^{-1}(p))(\\Phi^{-1})'(p)\\ =& \\bar \\beta -\\frac{\\zeta_1 - \\zeta0}{\\sigma{U_1 - U_0 - V}} \\frac{\\phi'(\\Phi^{-1}(p))}{\\phi(\\Phi^{-1}(p))} \\tag{inverse derivative theorem}\\ =& \\bar \\beta + \\frac{\\zeta_1 - \\zeta0}{\\sigma{U_1 - U_0 - V}} \\Phi^{-1}(p) \\tag{$\\phi'(t) = -t\\phi(t)$} \\end{align}\n",
    "\n",
    "We can evaluate p from z, namely, $p=P(z)$ is given by, \\begin{align} p =& P(D=1|Z=z) = Pr(Y_1 -Y_0 - Z - V \\geq 0 |Z=z) = P\\left(\\frac{U_0 + V - U1}{\\sigma{U_0 + V - U1}} \\leq \\frac{\\bar \\beta - Z}{\\sigma{U_0 + V - U1}}\\right)\\ =& \\Phi\\left(\\frac{\\bar \\beta - Z}{\\sigma{U_0 + V - U_1}}\\right) \\end{align}\n",
    "\n",
    "The code below calculates LIV for a given set of z's."
   ]
  },
  {
   "cell_type": "code",
   "execution_count": 86,
   "metadata": {},
   "outputs": [],
   "source": [
    "# For each configuration, compute the LIV\n",
    "\n",
    "def LIV_f(Z_values, α, β, cov, return_v=True):\n",
    "    ''' \n",
    "    For each configuration, compute the LIV\n",
    "    '''\n",
    "    # Extract variance\n",
    "    σ0_2, σ1_2, σc_2, σ01, σ0c, σ1c = cov[0][0], cov[1][1], cov[2][2], cov[0][1], cov[0][2], cov[1][2]\n",
    "\n",
    "    # parameters to evaluate\n",
    "    γ0 = σ0_2 + σ0c - σ01\n",
    "    γ1 = σ01 + σ1c - σ1_2\n",
    "    σ = np.sqrt(σ1_2 + σ0_2 + σc_2 - 2*(σ01 + σ1c - σ0c))\n",
    "    \n",
    "    # Propensity score over the domain of Z\n",
    "    p = [norm.cdf((β - z)/σ) for z in Z_values]\n",
    "    LIV = [β + ((γ1 - γ0)/σ)*norm.ppf(u) for u in p]\n",
    "    \n",
    "    if return_v==True:\n",
    "        return(LIV, p)\n"
   ]
  },
  {
   "cell_type": "code",
   "execution_count": 87,
   "metadata": {},
   "outputs": [],
   "source": [
    "LIV, p = LIV_f(Z_f(minmax_baseline[0], minmax_baseline[1], 10000), α, β, cov_f(conf1))"
   ]
  },
  {
   "cell_type": "code",
   "execution_count": 88,
   "metadata": {},
   "outputs": [
    {
     "data": {
      "text/plain": [
       "4"
      ]
     },
     "execution_count": 88,
     "metadata": {},
     "output_type": "execute_result"
    }
   ],
   "source": [
    "len(minmax_C)"
   ]
  },
  {
   "cell_type": "code",
   "execution_count": 91,
   "metadata": {},
   "outputs": [],
   "source": [
    "def plot_LIV_MTE(N, α, β, cov, Z_config, confi_nb =\"I\", Z_title=\"Z ~ U[-0.5, 0.5]\"):\n",
    "    \n",
    "    # Get Z\n",
    "    if len(Z_config)==2:\n",
    "        Z = Z_f(Z_config[0], Z_config[1], N)\n",
    "    if len(Z_config)==4:\n",
    "        '''\n",
    "        Relevant for 3.C. \n",
    "        Bonus: allow interval to have different lenght because why not\n",
    "        '''\n",
    "        min, max, min2, max2 = Z_config[0], Z_config[1], Z_config[2], Z_config[3]\n",
    "        Z1 = Z_f(min, max, N)\n",
    "        Z2 = Z_f(min2, max2, N)\n",
    "        p = (max - min)/(max - min + max2 - min2)\n",
    "        pick = binom.rvs(1, 0.5, size=N)\n",
    "        Z = Z1*pick + Z2*(1-pick)\n",
    "        \n",
    "    if (len(Z_config) != 2 & len(Z_config) != 4):\n",
    "        print(\"Fix your Z\") \n",
    "        \n",
    "        \n",
    "    mte = MTE_f(β, cov, plot=False)\n",
    "    liv = LIV_f(Z, α, β, cov)\n",
    "    \n",
    "    fig, ax = plt.subplots()\n",
    "    ax.plot(np.linspace(0, 1, N), mte, linewidth=2, alpha=0.4, label='MTE')\n",
    "    ax.scatter(liv[1], liv[0],c='pink', alpha=0.4, label='LIV')\n",
    "    ax.legend(loc='best')\n",
    "    ax.set_title('Comparison of MTE and LIV for configuration ' + str(confi_nb) + ' With ' + str(Z_title))\n",
    "    plt.show()"
   ]
  },
  {
   "cell_type": "code",
   "execution_count": 93,
   "metadata": {},
   "outputs": [
    {
     "data": {
      "image/png": "[encoded data removed]",
      "text/plain": [
       "<Figure size 432x288 with 1 Axes>"
      ]
     },
     "metadata": {
      "needs_background": "light"
     },
     "output_type": "display_data"
    }
   ],
   "source": [
    "configurations = list(conf1, conf2, conf3, conf4, conf5, conf6, conf7)\n",
    "\n",
    "[plot_LIV_MTE(N, α, β, cov_f(conf1), minmax_baseline, confi_nb =\"1\", Z_title=\"Z ~ U[-0.5, 0.5]\"), for i in "
   ]
  },
  {
   "cell_type": "markdown",
   "metadata": {},
   "source": [
    "## Let's do it!"
   ]
  },
  {
   "cell_type": "markdown",
   "metadata": {},
   "source": [
    "### Preliminary : set up the problem"
   ]
  },
  {
   "cell_type": "code",
   "execution_count": 52,
   "metadata": {},
   "outputs": [],
   "source": [
    "### Set parameters\n",
    "N = 1000\n",
    "α = 0.67\n",
    "β = 0.2\n",
    "mean = [0, 0, 0]"
   ]
  },
  {
   "cell_type": "code",
   "execution_count": 53,
   "metadata": {},
   "outputs": [],
   "source": [
    "### Different var-cov configurations\n",
    "conf1 = [1, 1, 1, 0, 0, 0]\n",
    "conf2 = [1, 1, 1, 0.5, -0.5, 0]\n",
    "conf3 = [1, 1, 1, 0, 0, 0.5]\n",
    "conf4 = [1, 1, 0, 0.5, 0, 0]\n",
    "conf5 = [1, 0.25, 1, 0.1, -0.2, 0.2]\n",
    "conf6 = [0.25, 0.25, 1, -0.2, 0.1, -0.2]\n",
    "conf7 = [1, 1, 1, -0.2, 0.6, 0.5]"
   ]
  },
  {
   "cell_type": "code",
   "execution_count": 54,
   "metadata": {},
   "outputs": [],
   "source": [
    "### Different configurations for the instrument\n",
    "minmax_baseline = [-0.5, 0.5]\n",
    "minmax_A = [-0.1, 0.1]\n",
    "minmax_B = [0, 0]\n",
    "minmax_C = [-0.5, -0.3, 0.3, 0.5]"
   ]
  },
  {
   "cell_type": "markdown",
   "metadata": {},
   "source": [
    "### The MTE for each error configuration\n",
    "\n",
    "Of course, we don't need to worry about how the instrument's domain impacts the MTE, as it is a theoretical object! "
   ]
  },
  {
   "cell_type": "code",
   "execution_count": 63,
   "metadata": {},
   "outputs": [
    {
     "data": {
      "image/png": "[encoded data removed]",
      "text/plain": [
       "<Figure size 432x288 with 1 Axes>"
      ]
     },
     "metadata": {
      "needs_background": "light"
     },
     "output_type": "display_data"
    },
    {
     "data": {
      "image/png": "[encoded data removed]",
      "text/plain": [
       "<Figure size 432x288 with 1 Axes>"
      ]
     },
     "metadata": {
      "needs_background": "light"
     },
     "output_type": "display_data"
    },
    {
     "data": {
      "image/png": "[encoded data removed]",
      "text/plain": [
       "<Figure size 432x288 with 1 Axes>"
      ]
     },
     "metadata": {
      "needs_background": "light"
     },
     "output_type": "display_data"
    },
    {
     "data": {
      "image/png": "[encoded data removed]",
      "text/plain": [
       "<Figure size 432x288 with 1 Axes>"
      ]
     },
     "metadata": {
      "needs_background": "light"
     },
     "output_type": "display_data"
    },
    {
     "data": {
      "image/png": "[encoded data removed]",
      "text/plain": [
       "<Figure size 432x288 with 1 Axes>"
      ]
     },
     "metadata": {
      "needs_background": "light"
     },
     "output_type": "display_data"
    },
    {
     "data": {
      "image/png": "[encoded data removed]",
      "text/plain": [
       "<Figure size 432x288 with 1 Axes>"
      ]
     },
     "metadata": {
      "needs_background": "light"
     },
     "output_type": "display_data"
    },
    {
     "data": {
      "image/png": "[encoded data removed]",
      "text/plain": [
       "<Figure size 432x288 with 1 Axes>"
      ]
     },
     "metadata": {
      "needs_background": "light"
     },
     "output_type": "display_data"
    }
   ],
   "source": [
    "### Compute and plot the MTE for each error configuration\n",
    "compute_MTE(10000, β, cov_f(conf1))\n",
    "compute_MTE(10000, β, cov_f(conf2))\n",
    "compute_MTE(10000, β, cov_f(conf3))\n",
    "compute_MTE(10000, β, cov_f(conf4))\n",
    "compute_MTE(10000, β, cov_f(conf5))\n",
    "compute_MTE(10000, β, cov_f(conf6))\n",
    "compute_MTE(10000, β, cov_f(conf7))"
   ]
  },
  {
   "cell_type": "markdown",
   "metadata": {},
   "source": [
    "### The LIV for each error and instrument"
   ]
  },
  {
   "cell_type": "code",
   "execution_count": 5,
   "metadata": {},
   "outputs": [],
   "source": [
    "\n"
   ]
  },
  {
   "cell_type": "code",
   "execution_count": 4,
   "metadata": {},
   "outputs": [],
   "source": [
    "\n",
    "\n"
   ]
  },
  {
   "cell_type": "code",
   "execution_count": 9,
   "metadata": {},
   "outputs": [
    {
     "data": {
      "image/png": "[encoded data removed]",
      "text/plain": [
       "<Figure size 432x288 with 1 Axes>"
      ]
     },
     "metadata": {
      "needs_background": "light"
     },
     "output_type": "display_data"
    }
   ],
   "source": [
    "# Obtain data for MTE with config 1 to work onward\n",
    "Y1, Y0, Z, C, D, cov, μD, Ud, MTE, U1, U0, UC = compute_MTE(N, α, β, minmax_baseline[0], minmax_baseline[1], mean, conf1, return_v=True)\n"
   ]
  },
  {
   "cell_type": "markdown",
   "metadata": {},
   "source": [
    "## LIV\n",
    "What Economic Question Can LATE Answer? S 15\n",
    "\n",
    "$\\frac{\\partial E(Y | P(Z) = p}{\\partial p} = E(Y_1 - Y_0 | U_d = p) = \\frac{\\partial S(p)}{\\partial p}$\n",
    "\n",
    "$\\frac{\\partial E(Y | P(Z) = p}{\\partial p} = \\beta + E(U_1 - U_0 | U_d = p)$"
   ]
  },
  {
   "cell_type": "markdown",
   "metadata": {},
   "source": [
    "### What is the difference between MTE and LIV?"
   ]
  },
  {
   "cell_type": "code",
   "execution_count": 10,
   "metadata": {},
   "outputs": [],
   "source": [
    "# B. LIV?\n",
    "\n",
    "# Chase - I need to look through above code more closely, but my guess is that he wants us to \n",
    "# manually compute LIV here. Of course, MTE = LIV in population, and my guess is this question is getting\n",
    "# at that point."
   ]
  },
  {
   "cell_type": "code",
   "execution_count": 11,
   "metadata": {},
   "outputs": [],
   "source": [
    "# C. Compute objective and subjective Treatment effects\n",
    "# Building bridges paper: \n",
    "# ex post objective outcome = Y0, Y1 ; ex ante subjective outcomes = E(Y0|I), E(Y1|I)\n",
    "def treat_effect_f(Y1, Y0, C, U1, U0, UC):\n",
    "    obj = β + Z\n",
    "    subj = Y1 - Y0 - C     #eq: β + Z + U1 - U0 - UC\n",
    "    return(obj, subj)"
   ]
  },
  {
   "cell_type": "code",
   "execution_count": 12,
   "metadata": {},
   "outputs": [],
   "source": [
    "obj, subj = treat_effect_f(Y1, Y0, C, U1, U0, UC)"
   ]
  },
  {
   "cell_type": "code",
   "execution_count": 13,
   "metadata": {},
   "outputs": [
    {
     "data": {
      "image/png": "[encoded data removed]",
      "text/plain": [
       "<Figure size 432x288 with 1 Axes>"
      ]
     },
     "metadata": {
      "needs_background": "light"
     },
     "output_type": "display_data"
    },
    {
     "data": {
      "image/png": "[encoded data removed]",
      "text/plain": [
       "<Figure size 432x288 with 1 Axes>"
      ]
     },
     "metadata": {
      "needs_background": "light"
     },
     "output_type": "display_data"
    },
    {
     "data": {
      "image/png": "[encoded data removed]",
      "text/plain": [
       "<Figure size 432x288 with 1 Axes>"
      ]
     },
     "metadata": {
      "needs_background": "light"
     },
     "output_type": "display_data"
    }
   ],
   "source": [
    "plt.scatter(Z, obj, c=\"red\")\n",
    "plt.show()\n",
    "plt.scatter(Z, subj, c=\"blue\")\n",
    "plt.show()\n",
    "plt.scatter(Z, subj, c=\"blue\")\n",
    "plt.scatter(Z, obj, c=\"red\")\n",
    "plt.show()"
   ]
  },
  {
   "cell_type": "code",
   "execution_count": null,
   "metadata": {},
   "outputs": [],
   "source": [
    "# D.Derive the weights on it to obtain the following treatment parameters \n",
    "#- ATE, TOT, TUT, the linear IV weight, the OLS weight, and the PRTE weight."
   ]
  },
  {
   "cell_type": "markdown",
   "metadata": {},
   "source": [
    "ATE (here we don't have an x)\n",
    "\n",
    "$\\omega_{ATE}(x, U_D) = 1$\n",
    "\n",
    "TT (here we don't have an x) see slides 13 and 10 of MTE as generator\n",
    "\n",
    "$\\omega_{TT}(x, U_D) = [\\int_{U_D}^{1} f_{P|X}(p | X=x) dp] \\frac{1}{E(P|X=x)} = \\frac{1 - F_{P|x}(U_D|x)}{E(P(Z)|X=x)}$\n",
    "\n",
    "Where $U_D = Pr(D(Z) = 1) = P(z)$"
   ]
  },
  {
   "cell_type": "code",
   "execution_count": null,
   "metadata": {},
   "outputs": [],
   "source": [
    "# Need to sort everything again according to Ud\n",
    "arr1inds = Ud.argsort()\n",
    "UD_sorted = Ud[arr1inds[::1]]\n",
    "Z_sorted = Z[arr1inds[::1]]\n",
    "MTE_sorted = MTE[arr1inds[::1]]\n",
    "\n",
    "\n"
   ]
  },
  {
   "cell_type": "code",
   "execution_count": null,
   "metadata": {},
   "outputs": [],
   "source": [
    "# Below is rather an experiment than anything else for now...\n",
    "def weight_ATE_f(N, UD_sorted):\n",
    "    return(np.ones(N))\n",
    "\n",
    "def weight_TT_f(N, UD_sorted):\n",
    "    # E(P) = share of treated\n",
    "    E_P = sum(D)/len(D)\n",
    "    # cd slide13, MTE as Generator\n",
    "    CDF_Ud = (UD_sorted - np.min(UD_sorted)) / (np.max(UD_sorted) - np.min(UD_sorted))\n",
    "    S_P = 1 - CDF_Ud\n",
    "    weight_TT = S_P / E_P\n",
    "    return(weight_TT)\n",
    "\n",
    "\n",
    "\n",
    "\n",
    "# It should integrate to 1...\n",
    "weight_TT_int = simps(weight_TT_f(len(UD_sorted), UD_sorted), UD_sorted)\n",
    "weight_ATE_int = simps(weight_ATE_f(len(UD_sorted), UD_sorted), UD_sorted)\n",
    "print(\"Sum weights TT\", simps(weight_TT_f(len(UD_sorted), UD_sorted), UD_sorted)) # takes the integral of the weights on Ud\n",
    "print(\"Sum weights ATE\", simps(weight_ATE_f(len(UD_sorted), UD_sorted), UD_sorted))\n",
    "\n",
    "weight_TT = weight_TT_f(len(UD_sorted), UD_sorted)\n",
    "weight_ATE = weight_ATE_f(len(UD_sorted), UD_sorted)"
   ]
  },
  {
   "cell_type": "code",
   "execution_count": null,
   "metadata": {},
   "outputs": [],
   "source": [
    "TT_inside = MTE_sorted * weight_TT\n",
    "TT = simps(TT_inside, UD_sorted) #Takes the integral of MTE*weight_TT on Ud\n",
    "print(\"TT \", TT)\n",
    "plt.scatter(UD_sorted, TT_inside)"
   ]
  },
  {
   "cell_type": "code",
   "execution_count": null,
   "metadata": {},
   "outputs": [],
   "source": [
    "plt.scatter(UD_sorted, weight_TT)\n",
    "plt.scatter(UD_sorted, weight_ATE)"
   ]
  },
  {
   "cell_type": "code",
   "execution_count": null,
   "metadata": {},
   "outputs": [],
   "source": [
    "ATE_inside = MTE_sorted * weight_ATE\n",
    "ATE = simps(ATE_inside, UD_sorted) #Takes the integral of MTE*weight_TT on Ud\n",
    "print(\"ATE \", ATE)\n",
    "\n",
    "plt.scatter(UD_sorted, ATE_inside)\n",
    "plt.scatter(UD_sorted, TT_inside)"
   ]
  },
  {
   "cell_type": "code",
   "execution_count": null,
   "metadata": {},
   "outputs": [],
   "source": [
    "# E. Which estimators and parameters depend on normality? Show how to relax it."
   ]
  },
  {
   "cell_type": "code",
   "execution_count": null,
   "metadata": {},
   "outputs": [],
   "source": []
  },
  {
   "cell_type": "code",
   "execution_count": null,
   "metadata": {},
   "outputs": [],
   "source": []
  }
 ],
 "metadata": {
  "kernelspec": {
   "display_name": "Python 3",
   "language": "python",
   "name": "python3"
  },
  "language_info": {
   "codemirror_mode": {
    "name": "ipython",
    "version": 3
   },
   "file_extension": ".py",
   "mimetype": "text/x-python",
   "name": "python",
   "nbconvert_exporter": "python",
   "pygments_lexer": "ipython3",
   "version": "3.7.4"
  }
 },
 "nbformat": 4,
 "nbformat_minor": 2
}
