{
 "cells": [
  {
   "cell_type": "code",
   "execution_count": 1,
   "metadata": {},
   "outputs": [],
   "source": [
    "### IMPORT PACKAGES\n",
    "# Import np\n",
    "import numpy as np\n",
    "# Stats\n",
    "import scipy.stats as st\n",
    "# Normal & binomial\n",
    "from scipy.stats import multivariate_normal\n",
    "from scipy.stats import norm\n",
    "from scipy.stats import binom\n",
    "# Plot\n",
    "import matplotlib.pyplot as plt\n",
    "# Integrals\n",
    "from scipy.integrate import quad\n",
    "from scipy.integrate import simps"
   ]
  },
  {
   "cell_type": "markdown",
   "metadata": {},
   "source": [
    "The code below corresponds to question 2 and 3 of Heckman's problem set 3.\n",
    "It first defines functions for the data generating process, functions to compute the covariance structure of Ud, function for the MTE..."
   ]
  },
  {
   "cell_type": "code",
   "execution_count": 2,
   "metadata": {},
   "outputs": [],
   "source": [
    "### FUNCTIONS FOR THE DGP\n",
    "\n",
    "def errors_f(mean, cov, N):\n",
    "    '''\n",
    "    This function generates multivariate join normal errors U1, U0, UC\n",
    "    Inputs:\n",
    "    - mean = a vector of means\n",
    "    - cov = a variance-covariance matrix\n",
    "    - N = number of observations\n",
    "    '''\n",
    "    U1, U0, UC = np.random.multivariate_normal(mean, cov, N).T\n",
    "    return(U1, U0, UC)\n",
    "\n",
    "def Z_f(min, max, N):\n",
    "    '''\n",
    "    This function generates Z ~ Unif[min, max].\n",
    "    Question 3 varies [min, max]\n",
    "    Inputs:\n",
    "    - min = lower bound of Unif\n",
    "    - max = upper bound of Unif\n",
    "    - N = number of observations\n",
    "    '''\n",
    "    return(np.random.uniform(min, max, N))\n",
    "\n",
    "def Y1_f(α, β, U1):\n",
    "    '''\n",
    "    This function computes Y1 for a given vector U1\n",
    "    '''\n",
    "    return(α + β + U1)\n",
    "\n",
    "def Y0_f(α, U0):\n",
    "    '''\n",
    "    This function computes Y0 for a given vector U0\n",
    "    '''\n",
    "    return(α + U0)\n",
    "\n",
    "def C_f(Z, UC):\n",
    "    '''\n",
    "    This function computes C for given vectors Z and UC (independent)\n",
    "    '''\n",
    "    return(Z + UC)\n",
    "\n",
    "def D_f(Y1, Y0, C):\n",
    "    '''\n",
    "    This function computes the choice function D, given vectors Y1, Y0 and C\n",
    "    '''\n",
    "    D = np.zeros(len(Y0))\n",
    "    for i in range(len(Y0)):\n",
    "        if Y1[i] - Y0[i] - C[i] >= 0: \n",
    "            D[i] = 1\n",
    "    return(D)\n",
    "\n",
    "def muD_f(β, Z):\n",
    "    '''\n",
    "    This function computes μD(Z)\n",
    "    '''\n",
    "    return(β + Z)\n",
    "    \n"
   ]
  },
  {
   "cell_type": "code",
   "execution_count": 1,
   "metadata": {},
   "outputs": [],
   "source": [
    "# Compute Ud\n",
    "def Ud_f(U1, U0, UC, cov):\n",
    "    '''\n",
    "    This function computes Ud to be used to evaluate the MTE at.\n",
    "    Ud = Φ(V/σv)\n",
    "    V = U0 + UC - U1\n",
    "    σv = Var(V)\n",
    "    Change of variable : W ~ N(0,1)\n",
    "    '''\n",
    "    σ0_2 = cov[0][0]\n",
    "    σ1_2 = cov[1][1]\n",
    "    σc_2 = cov[2][2]\n",
    "    σ01 = cov[0][1]\n",
    "    σ0c = cov[0][2]\n",
    "    σ1c = cov[1][2]\n",
    "    # σv\n",
    "    σv = np.sqrt(σ0_2 + σ1_2 + σc_2 + 2*σ0c - 2*σ1c - 2*σ01)\n",
    "    # V\n",
    "    V = U0 + UC - U1\n",
    "    # W ~ N(0,1)\n",
    "    W = V/σv\n",
    "    # Ud = Φ(V/σv)\n",
    "    Ud = norm.cdf(W)\n",
    "    return(Ud)\n",
    "\n",
    "# Compute the MTE for a given Ud & Graph it\n",
    "def MTE_f(β, cov, Ud, plot=True):\n",
    "    '''\n",
    "    This function computes the MTE for a given Ud (or vector)\n",
    "    MTE = β + Cov(U_1 - U_0, \\frac{V}{\\sigma_V})Φ^{-1}(Ud)\n",
    "    '''\n",
    "    # Extract covariances to make it easier to read\n",
    "    σ0_2 = cov[0][0]\n",
    "    σ1_2 = cov[1][1]\n",
    "    σc_2 = cov[2][2]\n",
    "    σ01 = cov[0][1]\n",
    "    σ0c = cov[0][2]\n",
    "    σ1c = cov[1][2]\n",
    "    # σv\n",
    "    σv = np.sqrt(σ0_2 + σ1_2 + σc_2 + 2*σ0c - 2*σ1c - 2*σ01)\n",
    "    \n",
    "    # Cov(U_1 - U_0, V/σv)\n",
    "    # Chase - I flipped the sign, is this right?\n",
    "    Cov_int = -1/σv *(σ1_2 + σ0_2 - 2*σ01 + σ1c - σ0c)\n",
    "    \n",
    "    v = norm.ppf(Ud)\n",
    "    MTE = β + Cov_int*v\n",
    "    \n",
    "    if plot==True:\n",
    "        plt.plot(Ud, MTE, 'ro')\n",
    "        plt.show()\n",
    "        \n",
    "    return(MTE)"
   ]
  },
  {
   "cell_type": "code",
   "execution_count": 4,
   "metadata": {},
   "outputs": [],
   "source": [
    "### Prepare the different configurations\n",
    "# Different configurations for the var-cov matrix\n",
    "conf1 = [1, 1, 1, 0, 0, 0]\n",
    "conf2 = [1, 1, 1, 0.5, -0.5, 0]\n",
    "conf3 = [1, 1, 1, 0, 0, 0.5]\n",
    "conf4 = [1, 1, 0, 0.5, 0, 0]\n",
    "conf5 = [1, 0.25, 1, 0.1, -0.2, 0.2]\n",
    "conf6 = [0.25, 0.25, 1, -0.2, 0.1, -0.2]\n",
    "conf7 = [1, 1, 1, -0.2, 0.6, 0.5]\n",
    "\n",
    "\n",
    "def cov_f(conf):\n",
    "    '''\n",
    "    Function creating the covariance matrix for the different configurations\n",
    "    '''\n",
    "    cov = [[conf[1], conf[3], conf[4]],\n",
    "          [conf[3], conf[0], conf[5]],\n",
    "          [conf[4], conf[5], conf[2]]]\n",
    "    return(cov)\n",
    "\n",
    "# Different configurations for the instrument\n",
    "minmax_baseline = [-0.5, 0.5]\n",
    "minmax_A = [-0.1, 0.1]\n",
    "minmax_B = [0, 0]\n",
    "minmax_C = [-0.5, -0.3, 0.3, 0.5]"
   ]
  },
  {
   "cell_type": "code",
   "execution_count": 5,
   "metadata": {},
   "outputs": [],
   "source": [
    "# DGP\n",
    "def DGP_f(N, α, β, min, max, mean, conf, minmax2=False, min2 = 0, max2 = 0):\n",
    "    cov = cov_f(conf)\n",
    "    U1, U0, UC = errors_f(mean, cov, N)\n",
    "    Y1 = Y1_f(α, β, U1)\n",
    "    Y0 = Y0_f(α, U0)\n",
    "    \n",
    "    if minmax2 == False:\n",
    "        Z = Z_f(min, max, N)\n",
    "    '''\n",
    "    Section below is relevant for 3.C.\n",
    "    '''\n",
    "    if minmax2 == True:\n",
    "        Z1 = Z_f(min, max, N)\n",
    "        Z2 = Z_f(min2, max2, N)\n",
    "        # Chase - generalized so intervals can have different lengths\n",
    "        p = (max - min)/(max - min + max2 - min2)\n",
    "        pick = binom.rvs(1, 0.5, size=N)\n",
    "        Z = Z1*pick + Z2*(1-pick)\n",
    " \n",
    "    C = C_f(Z, UC)\n",
    "    D = D_f(Y1, Y0, C)\n",
    "    μD = muD_f(β, Z)\n",
    "    return(Y1, Y0, Z, C, D, cov, μD, U1, U0, UC)\n",
    "\n"
   ]
  },
  {
   "cell_type": "code",
   "execution_count": 6,
   "metadata": {},
   "outputs": [],
   "source": [
    "### Set parameters\n",
    "N = 1000\n",
    "α = 0.67\n",
    "β = 0.2\n",
    "mean = [0, 0, 0]"
   ]
  },
  {
   "cell_type": "code",
   "execution_count": 7,
   "metadata": {},
   "outputs": [],
   "source": [
    "### For each configuration, generate the data, compute & plot the MTE\n",
    "def compute_MTE(N, α, β, minZ, maxZ, mean, conf, return_v=False):\n",
    "    Y1, Y0, Z, C, D, cov, μD, U1, U0, UC = DGP_f(N, α, β, \n",
    "                                 minZ, \n",
    "                                 maxZ, mean, conf)\n",
    "    Ud = Ud_f(U1, U0, UC, cov)\n",
    "    MTE = MTE_f(β, cov, Ud)\n",
    "    if return_v==True:\n",
    "        return(Y1, Y0, Z, C, D, cov, μD, Ud, MTE, U1, U0, UC)"
   ]
  },
  {
   "cell_type": "code",
   "execution_count": 8,
   "metadata": {},
   "outputs": [
    {
     "data": {
      "image/png": "[encoded data removed]",
      "text/plain": [
       "<Figure size 432x288 with 1 Axes>"
      ]
     },
     "metadata": {
      "needs_background": "light"
     },
     "output_type": "display_data"
    },
    {
     "data": {
      "image/png": "[encoded data removed]",
      "text/plain": [
       "<Figure size 432x288 with 1 Axes>"
      ]
     },
     "metadata": {
      "needs_background": "light"
     },
     "output_type": "display_data"
    },
    {
     "data": {
      "image/png": "[encoded data removed]",
      "text/plain": [
       "<Figure size 432x288 with 1 Axes>"
      ]
     },
     "metadata": {
      "needs_background": "light"
     },
     "output_type": "display_data"
    },
    {
     "data": {
      "image/png": "[encoded data removed]",
      "text/plain": [
       "<Figure size 432x288 with 1 Axes>"
      ]
     },
     "metadata": {
      "needs_background": "light"
     },
     "output_type": "display_data"
    },
    {
     "data": {
      "image/png": "[encoded data removed]",
      "text/plain": [
       "<Figure size 432x288 with 1 Axes>"
      ]
     },
     "metadata": {
      "needs_background": "light"
     },
     "output_type": "display_data"
    },
    {
     "data": {
      "image/png": "[encoded data removed]",
      "text/plain": [
       "<Figure size 432x288 with 1 Axes>"
      ]
     },
     "metadata": {
      "needs_background": "light"
     },
     "output_type": "display_data"
    },
    {
     "data": {
      "image/png": "[encoded data removed]",
      "text/plain": [
       "<Figure size 432x288 with 1 Axes>"
      ]
     },
     "metadata": {
      "needs_background": "light"
     },
     "output_type": "display_data"
    }
   ],
   "source": [
    "# MTE for each error configuration\n",
    "compute_MTE(N, α, β, minmax_baseline[0], minmax_baseline[1], mean, conf1)\n",
    "compute_MTE(N, α, β, minmax_baseline[0], minmax_baseline[1], mean, conf2)\n",
    "compute_MTE(N, α, β, minmax_baseline[0], minmax_baseline[1], mean, conf3)\n",
    "compute_MTE(N, α, β, minmax_baseline[0], minmax_baseline[1], mean, conf4)\n",
    "compute_MTE(N, α, β, minmax_baseline[0], minmax_baseline[1], mean, conf5)\n",
    "compute_MTE(N, α, β, minmax_baseline[0], minmax_baseline[1], mean, conf6)     \n",
    "compute_MTE(N, α, β, minmax_baseline[0], minmax_baseline[1], mean, conf7)\n"
   ]
  },
  {
   "cell_type": "code",
   "execution_count": 9,
   "metadata": {},
   "outputs": [
    {
     "data": {
      "image/png": "[encoded data removed]",
      "text/plain": [
       "<Figure size 432x288 with 1 Axes>"
      ]
     },
     "metadata": {
      "needs_background": "light"
     },
     "output_type": "display_data"
    }
   ],
   "source": [
    "# Obtain data for MTE with config 1 to work onward\n",
    "Y1, Y0, Z, C, D, cov, μD, Ud, MTE, U1, U0, UC = compute_MTE(N, α, β, minmax_baseline[0], minmax_baseline[1], mean, conf1, return_v=True)\n"
   ]
  },
  {
   "cell_type": "markdown",
   "metadata": {},
   "source": [
    "## LIV\n",
    "What Economic Question Can LATE Answer? S 15\n",
    "\n",
    "$\\frac{\\partial E(Y | P(Z) = p}{\\partial p} = E(Y_1 - Y_0 | U_d = p) = \\frac{\\partial S(p)}{\\partial p}$\n",
    "\n",
    "$\\frac{\\partial E(Y | P(Z) = p}{\\partial p} = \\beta + E(U_1 - U_0 | U_d = p)$"
   ]
  },
  {
   "cell_type": "markdown",
   "metadata": {},
   "source": [
    "### What is the difference between MTE and LIV?"
   ]
  },
  {
   "cell_type": "code",
   "execution_count": 10,
   "metadata": {},
   "outputs": [],
   "source": [
    "# B. LIV?\n",
    "\n",
    "# Chase - I need to look through above code more closely, but my guess is that he wants us to \n",
    "# manually compute LIV here. Of course, MTE = LIV in population, and my guess is this question is getting\n",
    "# at that point."
   ]
  },
  {
   "cell_type": "code",
   "execution_count": 11,
   "metadata": {},
   "outputs": [],
   "source": [
    "# C. Compute objective and subjective Treatment effects\n",
    "def treat_effect_f(Y1, Y0, C, U1, U0, UC):\n",
    "    obj = β + Z\n",
    "    subj = Y1 - Y0 - C     #eq: β + Z + U1 - U0 - UC\n",
    "    return(obj, subj)"
   ]
  },
  {
   "cell_type": "code",
   "execution_count": 12,
   "metadata": {},
   "outputs": [],
   "source": [
    "obj, subj = treat_effect_f(Y1, Y0, C, U1, U0, UC)"
   ]
  },
  {
   "cell_type": "code",
   "execution_count": 13,
   "metadata": {},
   "outputs": [
    {
     "data": {
      "image/png": "[encoded data removed]",
      "text/plain": [
       "<Figure size 432x288 with 1 Axes>"
      ]
     },
     "metadata": {
      "needs_background": "light"
     },
     "output_type": "display_data"
    },
    {
     "data": {
      "image/png": "[encoded data removed]",
      "text/plain": [
       "<Figure size 432x288 with 1 Axes>"
      ]
     },
     "metadata": {
      "needs_background": "light"
     },
     "output_type": "display_data"
    },
    {
     "data": {
      "image/png": "[encoded data removed]",
      "text/plain": [
       "<Figure size 432x288 with 1 Axes>"
      ]
     },
     "metadata": {
      "needs_background": "light"
     },
     "output_type": "display_data"
    }
   ],
   "source": [
    "plt.scatter(Z, obj, c=\"red\")\n",
    "plt.show()\n",
    "plt.scatter(Z, subj, c=\"blue\")\n",
    "plt.show()\n",
    "plt.scatter(Z, subj, c=\"blue\")\n",
    "plt.scatter(Z, obj, c=\"red\")\n",
    "plt.show()"
   ]
  },
  {
   "cell_type": "code",
   "execution_count": null,
   "metadata": {},
   "outputs": [],
   "source": [
    "# D.Derive the weights on it to obtain the following treatment parameters \n",
    "#- ATE, TOT, TUT, the linear IV weight, the OLS weight, and the PRTE weight."
   ]
  },
  {
   "cell_type": "markdown",
   "metadata": {},
   "source": [
    "ATE (here we don't have an x)\n",
    "\n",
    "$\\omega_{ATE}(x, U_D) = 1$\n",
    "\n",
    "TT (here we don't have an x) see slides 13 and 10 of MTE as generator\n",
    "\n",
    "$\\omega_{TT}(x, U_D) = [\\int_{U_D}^{1} f_{P|X}(p | X=x) dp] \\frac{1}{E(P|X=x)} = \\frac{1 - F_{P|x}(U_D|x)}{E(P(Z)|X=x)}$\n",
    "\n",
    "Where $U_D = Pr(D(Z) = 1) = P(z)$"
   ]
  },
  {
   "cell_type": "code",
   "execution_count": null,
   "metadata": {},
   "outputs": [],
   "source": [
    "# Need to sort everything again according to Ud\n",
    "arr1inds = Ud.argsort()\n",
    "UD_sorted = Ud[arr1inds[::1]]\n",
    "Z_sorted = Z[arr1inds[::1]]\n",
    "MTE_sorted = MTE[arr1inds[::1]]\n",
    "\n",
    "\n"
   ]
  },
  {
   "cell_type": "code",
   "execution_count": null,
   "metadata": {},
   "outputs": [],
   "source": [
    "# Below is rather an experiment than anything else for now...\n",
    "def weight_ATE_f(N, UD_sorted):\n",
    "    return(np.ones(N))\n",
    "\n",
    "def weight_TT_f(N, UD_sorted):\n",
    "    # E(P) = share of treated\n",
    "    E_P = sum(D)/len(D)\n",
    "    # cd slide13, MTE as Generator\n",
    "    CDF_Ud = (UD_sorted - np.min(UD_sorted)) / (np.max(UD_sorted) - np.min(UD_sorted))\n",
    "    S_P = 1 - CDF_Ud\n",
    "    weight_TT = S_P / E_P\n",
    "    return(weight_TT)\n",
    "\n",
    "\n",
    "\n",
    "\n",
    "# It should integrate to 1...\n",
    "weight_TT_int = simps(weight_TT_f(len(UD_sorted), UD_sorted), UD_sorted)\n",
    "weight_ATE_int = simps(weight_ATE_f(len(UD_sorted), UD_sorted), UD_sorted)\n",
    "print(\"Sum weights TT\", simps(weight_TT_f(len(UD_sorted), UD_sorted), UD_sorted)) # takes the integral of the weights on Ud\n",
    "print(\"Sum weights ATE\", simps(weight_ATE_f(len(UD_sorted), UD_sorted), UD_sorted))\n",
    "\n",
    "weight_TT = weight_TT_f(len(UD_sorted), UD_sorted)\n",
    "weight_ATE = weight_ATE_f(len(UD_sorted), UD_sorted)"
   ]
  },
  {
   "cell_type": "code",
   "execution_count": null,
   "metadata": {},
   "outputs": [],
   "source": [
    "TT_inside = MTE_sorted * weight_TT\n",
    "TT = simps(TT_inside, UD_sorted) #Takes the integral of MTE*weight_TT on Ud\n",
    "print(\"TT \", TT)\n",
    "plt.scatter(UD_sorted, TT_inside)"
   ]
  },
  {
   "cell_type": "code",
   "execution_count": null,
   "metadata": {},
   "outputs": [],
   "source": [
    "plt.scatter(UD_sorted, weight_TT)\n",
    "plt.scatter(UD_sorted, weight_ATE)"
   ]
  },
  {
   "cell_type": "code",
   "execution_count": null,
   "metadata": {},
   "outputs": [],
   "source": [
    "ATE_inside = MTE_sorted * weight_ATE\n",
    "ATE = simps(ATE_inside, UD_sorted) #Takes the integral of MTE*weight_TT on Ud\n",
    "print(\"ATE \", ATE)\n",
    "\n",
    "plt.scatter(UD_sorted, ATE_inside)\n",
    "plt.scatter(UD_sorted, TT_inside)"
   ]
  },
  {
   "cell_type": "code",
   "execution_count": null,
   "metadata": {},
   "outputs": [],
   "source": [
    "# E. Which estimators and parameters depend on normality? Show how to relax it."
   ]
  },
  {
   "cell_type": "code",
   "execution_count": null,
   "metadata": {},
   "outputs": [],
   "source": []
  },
  {
   "cell_type": "code",
   "execution_count": null,
   "metadata": {},
   "outputs": [],
   "source": []
  }
 ],
 "metadata": {
  "kernelspec": {
   "display_name": "Python 3",
   "language": "python",
   "name": "python3"
  },
  "language_info": {
   "codemirror_mode": {
    "name": "ipython",
    "version": 3
   },
   "file_extension": ".py",
   "mimetype": "text/x-python",
   "name": "python",
   "nbconvert_exporter": "python",
   "pygments_lexer": "ipython3",
   "version": "3.7.4"
  }
 },
 "nbformat": 4,
 "nbformat_minor": 2
}
